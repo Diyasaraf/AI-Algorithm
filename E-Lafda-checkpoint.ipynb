{
 "cells": [
  {
   "cell_type": "code",
   "execution_count": 1,
   "id": "9776d1e7",
   "metadata": {},
   "outputs": [],
   "source": [
    "from selenium import webdriver\n",
    "from selenium.webdriver.common.keys import Keys\n",
    "from selenium.webdriver.support import expected_conditions as EC\n",
    "from selenium.webdriver.common.by import By\n",
    "from selenium.webdriver.support.wait import WebDriverWait\n",
    "from selenium.webdriver.chrome.service import Service\n",
    "import time\n",
    "import getpass"
   ]
  },
  {
   "cell_type": "code",
   "execution_count": 2,
   "id": "d0c9e7f8",
   "metadata": {
    "scrolled": true
   },
   "outputs": [
    {
     "name": "stderr",
     "output_type": "stream",
     "text": [
      "C:\\Users\\Diya\\AppData\\Local\\Temp\\ipykernel_22820\\1410727624.py:1: DeprecationWarning: executable_path has been deprecated, please pass in a Service object\n",
      "  driver = webdriver.Chrome(\"C:/Users/Diya/Downloads/chromedriver_win32 (1)/chromedriver.exe\")\n"
     ]
    },
    {
     "name": "stdout",
     "output_type": "stream",
     "text": [
      "········\n",
      "Done\n",
      "Done\n"
     ]
    }
   ],
   "source": [
    "driver = webdriver.Chrome(\"C:/Users/Diya/Downloads/chromedriver_win32 (1)/chromedriver.exe\")\n",
    "driver.get(\"https://twitter.com/i/flow/login\")\n",
    "un= 'diyasaraf28@gmail.com'\n",
    "pw= getpass.getpass()\n",
    "time.sleep(50)\n",
    "uname = driver.find_element(By.XPATH, \"//*[@id=\\\"react-root\\\"]/div/div/div/main/div/div/div/div[2]/div[2]/div/div[5]/label/div/div[2]/div/input\")\n",
    "uname.send_keys(un)\n",
    "driver.find_element(By.XPATH, '//*[@id=\\\"react-root\\\"]/div/div/div/main/div/div/div/div[2]/div[2]/div/div[6]/div').click()\n",
    "print(\"Done\")\n",
    "time.sleep(50)\n",
    "password= driver.find_element(By.XPATH, '//*[@id=\\\"react-root\\\"]/div/div/div/main/div/div/div/div[2]/div[2]/div[1]/div/div/div/div[3]/div/label/div/div[2]/div[1]/input')\n",
    "password.send_keys(pw)\n",
    "print(\"Done\")\n",
    "WebDriverWait(driver,10).until(EC.element_to_be_clickable((By.XPATH, '//*[@id=\\\"react-root\\\"]/div/div/div/main/div/div/div/div[2]/div[2]/div[2]/div/div/div/div/div/div/div'))).click()\n",
    "time.sleep(10)"
   ]
  },
  {
   "cell_type": "code",
   "execution_count": 3,
   "id": "724e1675",
   "metadata": {},
   "outputs": [],
   "source": [
    "driver.get(\"https://twitter.com/elonmusk\")"
   ]
  },
  {
   "cell_type": "code",
   "execution_count": 4,
   "id": "0b60634a",
   "metadata": {},
   "outputs": [
    {
     "name": "stdout",
     "output_type": "stream",
     "text": [
      "Falcon 9’s first stage has landed on Landing Zone 4\n",
      "\n",
      "\n",
      "Liftoff!\n",
      "\n",
      "\n",
      "In Q1, we produced over 440k vehicles & delivered over 422k vehicles →\n",
      "\n",
      "\n",
      "Great interview on AI\n",
      "\n",
      "\n",
      "Geoffrey Hinton, who works with Google and mentors AI's rising stars, started researching artificial intelligence over 40 years ago. https://cbsn.ws/3JDFjWw\n",
      "\n",
      "\n",
      "Walked whole Cybertruck production line at Giga Texas for several hours earlier today – gonna be awesome!\n",
      "\n",
      "\n",
      "Feels like the future\n",
      "\n",
      "\n",
      "The real tragedy of \n",
      "@NYTimes\n",
      " is that their propaganda isn’t even interesting\n",
      "\n",
      "\n",
      "Also, their feed is the Twitter equivalent of diarrhea. It’s unreadable.\n",
      "\n",
      "They would have far more real followers if they only posted their top articles. \n",
      "\n",
      "Same applies to all publications.\n",
      "\n",
      "\n",
      " @CommunityNotes\n",
      " \n",
      "\n",
      "\n",
      "Me after 1 day of not eating sugar\n",
      "\n",
      "\n",
      "Wait for it …\n",
      "\n",
      "\n",
      "Cybertruck crash test\n",
      "\n",
      "\n",
      "Twitter open source Spaces discussion happening now!\n",
      "\n",
      "\n",
      "This is most of the recommendation code. In the coming weeks, we will open source literally everything that contributes to showing a tweet, such that the output can be at least roughly approximated.\n",
      "\n",
      "\n"
     ]
    }
   ],
   "source": [
    "time.sleep(5)\n",
    "tweets=[]\n",
    "n=15\n",
    "while len(tweets) < n:\n",
    "     driver.execute_script(\"window.scrollTo(0, document.body.scrollHeight);\")\n",
    "     driver.implicitly_wait(10)\n",
    "     tweets= driver.find_elements(By.XPATH, '//div[@data-testid=\"tweetText\"]')\n",
    "for tweet in tweets[:n]:\n",
    "    t = tweet.text\n",
    "    print(t)\n",
    "    print(\"\\n\")\n",
    "    "
   ]
  },
  {
   "cell_type": "code",
   "execution_count": null,
   "id": "748c9c96",
   "metadata": {},
   "outputs": [],
   "source": []
  }
 ],
 "metadata": {
  "kernelspec": {
   "display_name": "Python 3 (ipykernel)",
   "language": "python",
   "name": "python3"
  },
  "language_info": {
   "codemirror_mode": {
    "name": "ipython",
    "version": 3
   },
   "file_extension": ".py",
   "mimetype": "text/x-python",
   "name": "python",
   "nbconvert_exporter": "python",
   "pygments_lexer": "ipython3",
   "version": "3.10.9"
  }
 },
 "nbformat": 4,
 "nbformat_minor": 5
}
